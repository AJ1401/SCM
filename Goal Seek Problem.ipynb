{
 "cells": [
  {
   "cell_type": "code",
   "execution_count": 8,
   "id": "b2a88292",
   "metadata": {},
   "outputs": [
    {
     "name": "stdout",
     "output_type": "stream",
     "text": [
      "The unit price for zero profit is: 3.10\n"
     ]
    }
   ],
   "source": [
    "demand = 17000\n",
    "unit_cost = 0.45\n",
    "fixed_cost = 45000\n",
    "\n",
    "variable_cost = unit_cost * demand \n",
    "total_cost = fixed_cost + variable_cost\n",
    "unit_price = total_cost / demand \n",
    "\n",
    "while True:\n",
    "    revenue = unit_price * demand \n",
    "    profit = revenue - total_cost\n",
    "    \n",
    "    if abs(profit) < 0.01:\n",
    "        break\n",
    "    \n",
    "    unit_price += 0.01\n",
    "    \n",
    "print(f\"The unit price for zero profit is: {unit_price:.2f}\")"
   ]
  },
  {
   "cell_type": "code",
   "execution_count": null,
   "id": "8ec1c431",
   "metadata": {},
   "outputs": [],
   "source": []
  },
  {
   "cell_type": "code",
   "execution_count": null,
   "id": "9ed97b10",
   "metadata": {},
   "outputs": [],
   "source": []
  }
 ],
 "metadata": {
  "kernelspec": {
   "display_name": "Python 3 (ipykernel)",
   "language": "python",
   "name": "python3"
  },
  "language_info": {
   "codemirror_mode": {
    "name": "ipython",
    "version": 3
   },
   "file_extension": ".py",
   "mimetype": "text/x-python",
   "name": "python",
   "nbconvert_exporter": "python",
   "pygments_lexer": "ipython3",
   "version": "3.11.3"
  }
 },
 "nbformat": 4,
 "nbformat_minor": 5
}
