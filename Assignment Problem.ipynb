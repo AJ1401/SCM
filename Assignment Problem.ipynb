{
 "cells": [
  {
   "cell_type": "code",
   "execution_count": null,
   "id": "e113d641",
   "metadata": {},
   "outputs": [],
   "source": []
  },
  {
   "cell_type": "code",
   "execution_count": 3,
   "id": "b293d7de",
   "metadata": {},
   "outputs": [
    {
     "name": "stdout",
     "output_type": "stream",
     "text": [
      "Status: Optimal\n",
      "x2 = 1.0\n",
      "x6 = 1.0\n",
      "x7 = 1.0\n",
      "Total = 26.0\n"
     ]
    }
   ],
   "source": [
    "from pulp import *\n",
    "\n",
    "x1 = LpVariable('x1', lowBound=0, cat='Integer')\n",
    "x2 = LpVariable('x2', lowBound=0, cat='Integer')\n",
    "x3 = LpVariable('x3', lowBound=0, cat='Integer')\n",
    "x4 = LpVariable('x4', lowBound=0, cat='Integer')\n",
    "x5 = LpVariable('x5', lowBound=0, cat='Integer')\n",
    "x6 = LpVariable('x6', lowBound=0, cat='Integer')\n",
    "x7 = LpVariable('x7', lowBound=0, cat='Integer')\n",
    "x8 = LpVariable('x8', lowBound=0, cat='Integer')\n",
    "x9 = LpVariable('x9', lowBound=0, cat='Integer')\n",
    "\n",
    "Problem = LpProblem('Transshipment Problem', LpMinimize)\n",
    "\n",
    "Problem += 10*x1+15*x2+9*x3+9*x4+18*x5+5*x6+6*x7+14*x8+3*x9\n",
    "\n",
    "Problem += x1+x2+x3<=1\n",
    "Problem += x4+x5+x6<=1\n",
    "Problem += x7+x8+x9<=1\n",
    "Problem += x1+x4+x7==1\n",
    "Problem += x2+x5+x8==1\n",
    "Problem += x3+x6+x9==1\n",
    "\n",
    "Problem.solve()\n",
    "\n",
    "print(\"Status:\", LpStatus[Problem.status])\n",
    "\n",
    "for s in Problem.variables():\n",
    "    if s.varValue > 0:\n",
    "        print(s.name, \"=\", s.varValue)\n",
    "    \n",
    "print(\"Total =\", value(Problem.objective))"
   ]
  }
 ],
 "metadata": {
  "kernelspec": {
   "display_name": "Python 3 (ipykernel)",
   "language": "python",
   "name": "python3"
  },
  "language_info": {
   "codemirror_mode": {
    "name": "ipython",
    "version": 3
   },
   "file_extension": ".py",
   "mimetype": "text/x-python",
   "name": "python",
   "nbconvert_exporter": "python",
   "pygments_lexer": "ipython3",
   "version": "3.9.12"
  }
 },
 "nbformat": 4,
 "nbformat_minor": 5
}
