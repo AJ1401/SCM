{
 "cells": [
  {
   "cell_type": "code",
   "execution_count": null,
   "id": "be748334",
   "metadata": {},
   "outputs": [],
   "source": []
  },
  {
   "cell_type": "code",
   "execution_count": 20,
   "id": "8545878e",
   "metadata": {},
   "outputs": [
    {
     "name": "stdout",
     "output_type": "stream",
     "text": [
      "Status: Optimal\n",
      "Amountship_Bedford_Chicago = 2500.0\n",
      "Amountship_Bedford_Lexington = 1500.0\n",
      "Amountship_Bedford_St.Louis = 2000.0\n",
      "Amountship_Cleveland_Boston = 3500.0\n",
      "Amountship_Cleveland_Chicago = 1500.0\n",
      "Amountship_York_Boston = 2500.0\n",
      "Total bushel-miles = 39500.0\n"
     ]
    }
   ],
   "source": [
    "from pulp import *\n",
    "\n",
    "# Define the plants and distribution centers\n",
    "plants = ['Cleveland', 'Bedford', 'York', 'Dummy']\n",
    "centers = ['Boston', 'Chicago', 'St.Louis', 'Lexington']\n",
    "\n",
    "# Production capacities for each plant\n",
    "capacities = {'Cleveland': 5000, 'Bedford': 6000, 'York': 2500, 'Dummy': 0}\n",
    "\n",
    "# Demand requirements for each distribution center\n",
    "demands = {'Boston': 6000, 'Chicago': 4000, 'St.Louis': 2000, 'Lexington': 1500}\n",
    "\n",
    "# Transportation costs from each plant to each distribution center\n",
    "transportation_costs = {\n",
    "    ('Cleveland', 'Boston'): 3,\n",
    "    ('Cleveland', 'Chicago'): 2,\n",
    "    ('Cleveland', 'St.Louis'): 7,\n",
    "    ('Cleveland', 'Lexington'): 6,\n",
    "    ('Bedford', 'Boston'): 7,\n",
    "    ('Bedford', 'Chicago'): 5,\n",
    "    ('Bedford', 'St.Louis'): 2,\n",
    "    ('Bedford', 'Lexington'): 3,\n",
    "    ('York', 'Boston'): 2,\n",
    "    ('York', 'Chicago'): 5,\n",
    "    ('York', 'St.Louis'): 4,\n",
    "    ('York', 'Lexington'): 5,\n",
    "    ('Dummy', 'Boston'): 0,\n",
    "    ('Dummy', 'Chicago'): 0,\n",
    "    ('Dummy', 'St.Louis'): 0,\n",
    "    ('Dummy', 'Lexington'): 0\n",
    "}\n",
    "\n",
    "prob = LpProblem(\"Transportation\", LpMinimize)\n",
    "routes = [(i, j) for i in plants for j in centers]\n",
    "amount_vars = LpVariable.dicts(\"Amountship\", (plants, centers), 0)\n",
    "\n",
    "# Corrected variable name 'capacities'\n",
    "prob += lpSum(amount_vars[i][j] * transportation_costs[i, j] for (i, j) in routes)\n",
    "\n",
    "for j in centers:\n",
    "    prob += lpSum(amount_vars[i][j] for i in plants) == demands[j]\n",
    "\n",
    "for i in plants:\n",
    "    # Corrected variable name 'capacities'\n",
    "    prob += lpSum(amount_vars[i][j] for j in centers) <= capacities[i]\n",
    "\n",
    "prob.solve()\n",
    "print(\"Status:\", LpStatus[prob.status])\n",
    "\n",
    "for v in prob.variables():\n",
    "    if v.varValue > 0:\n",
    "        print(v.name, \"=\", v.varValue)\n",
    "\n",
    "print(\"Total bushel-miles =\", value(prob.objective))\n"
   ]
  },
  {
   "cell_type": "code",
   "execution_count": null,
   "id": "ed7f6740",
   "metadata": {},
   "outputs": [],
   "source": []
  },
  {
   "cell_type": "code",
   "execution_count": null,
   "id": "26f32652",
   "metadata": {},
   "outputs": [],
   "source": []
  },
  {
   "cell_type": "code",
   "execution_count": null,
   "id": "00479d10",
   "metadata": {},
   "outputs": [],
   "source": []
  },
  {
   "cell_type": "code",
   "execution_count": null,
   "id": "13a5408c",
   "metadata": {},
   "outputs": [],
   "source": []
  }
 ],
 "metadata": {
  "kernelspec": {
   "display_name": "Python 3 (ipykernel)",
   "language": "python",
   "name": "python3"
  },
  "language_info": {
   "codemirror_mode": {
    "name": "ipython",
    "version": 3
   },
   "file_extension": ".py",
   "mimetype": "text/x-python",
   "name": "python",
   "nbconvert_exporter": "python",
   "pygments_lexer": "ipython3",
   "version": "3.11.5"
  }
 },
 "nbformat": 4,
 "nbformat_minor": 5
}
