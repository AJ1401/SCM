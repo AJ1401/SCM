{
 "cells": [
  {
   "cell_type": "code",
   "execution_count": null,
   "id": "60ac6b44",
   "metadata": {},
   "outputs": [],
   "source": []
  },
  {
   "cell_type": "code",
   "execution_count": 4,
   "id": "b369e3df",
   "metadata": {},
   "outputs": [
    {
     "name": "stdout",
     "output_type": "stream",
     "text": [
      "Minimum number of employees needed: 20\n"
     ]
    }
   ],
   "source": [
    "from pulp import LpMaximize, LpProblem, LpVariable\n",
    "\n",
    "# Define the days of the week and their corresponding worker starts\n",
    "days = [\"Monday\", \"Tuesday\", \"Wednesday\", \"Thursday\", \"Friday\", \"Saturday\", \"Sunday\"]\n",
    "worker_starts = [\n",
    "    [1, 1, 1, 1, 1, 0, 0],\n",
    "    [0, 1, 1, 1, 1, 1, 0],\n",
    "    [0, 0, 1, 1, 1, 1, 1],\n",
    "    [1, 0, 0, 1, 1, 1, 1],\n",
    "    [1, 1, 0, 0, 1, 1, 1],\n",
    "    [1, 1, 1, 0, 0, 1, 1],\n",
    "    [1, 1, 1, 1, 0, 0, 1]\n",
    "]\n",
    "\n",
    "# Define the number of workers needed each day\n",
    "workers_needed = {\n",
    "    \"Monday\": 17,\n",
    "    \"Tuesday\": 13,\n",
    "    \"Wednesday\": 15,\n",
    "    \"Thursday\": 17,\n",
    "    \"Friday\": 9,\n",
    "    \"Saturday\": 9,\n",
    "    \"Sunday\": 12\n",
    "}\n",
    "\n",
    "# Create a LP problem\n",
    "prob = LpProblem(\"Minimum_Workers\", LpMinimize)\n",
    "\n",
    "# Define variables for the number of workers starting each day\n",
    "worker_vars = LpVariable.dicts(\"Workers\", days, lowBound=0, cat=\"Integer\")\n",
    "\n",
    "# Define the objective function to minimize the total number of workers\n",
    "prob += sum(worker_vars[day] for day in days)\n",
    "\n",
    "# Add constraints for each day to ensure that the number of workers starting that day is enough\n",
    "for i, day in enumerate(days):\n",
    "    prob += sum(worker_vars[days[j]] * worker_starts[j][i] for j in range(len(days))) >= workers_needed[day]\n",
    "\n",
    "# Solve the LP problem\n",
    "prob.solve()\n",
    "\n",
    "# Print the minimum number of employees needed\n",
    "print(\"Minimum number of employees needed:\", int(sum(worker_vars[day].value() for day in days)))\n"
   ]
  },
  {
   "cell_type": "code",
   "execution_count": 6,
   "id": "e48f7897",
   "metadata": {},
   "outputs": [
    {
     "name": "stdout",
     "output_type": "stream",
     "text": [
      "x1 m 1.0\n",
      "x2 m 3.0\n",
      "x3 m 0.0\n",
      "x4 m 4.0\n",
      "x5 m 1.0\n",
      "x6 m 2.0\n",
      "x7 m 9.0\n",
      "The optimal value is : 20.0\n"
     ]
    }
   ],
   "source": [
    "from pulp import *\n",
    "\n",
    "prob = LpProblem(\"Simple LP problem\",LpMinimize)\n",
    "\n",
    "x1= LpVariable(\"x1\")\n",
    "x2= LpVariable(\"x2\")\n",
    "x3= LpVariable(\"x3\")\n",
    "x4= LpVariable(\"x4\")\n",
    "x5= LpVariable(\"x5\")\n",
    "x6= LpVariable(\"x6\")\n",
    "x7= LpVariable(\"x7\")\n",
    "\n",
    "prob+= x1+x2+x3+x4+x5+x6+x7\n",
    "\n",
    "prob+= x1+x4+x5+x6+x7>= 17\n",
    "prob+= x1+x2+x5+x6+x7>=13\n",
    "prob+= x1+x2+x3+x6+x7>=15\n",
    "prob+= x1+x2+x3+x4+x7>=17\n",
    "prob+= x1+x2+x3+x4+x5>=9\n",
    "prob+= x2+x3+x4+x5+x6>=9\n",
    "prob+= x3+x4+x5+x6+x7>=12\n",
    "prob+= x1+x4+x5+x6+x7==17\n",
    "prob+= x1+x2+x5+x6+x7==16\n",
    "prob+= x1+x2+x3+x6+x7==15\n",
    "prob+= x1+x2+x3+x4+x7==17\n",
    "prob+= x1+x2+x3+x4+x5==9\n",
    "prob+= x2+x3+x4+x5+x6==10\n",
    "prob+= x3+x4+x5+x6+x7==16\n",
    "\n",
    "prob.solve()\n",
    "\n",
    "for v in prob.variables():\n",
    "    print(v.name,\"m\",v.varValue)\n",
    "    \n",
    "print(\"The optimal value is :\",value(prob.objective))"
   ]
  }
 ],
 "metadata": {
  "kernelspec": {
   "display_name": "Python 3 (ipykernel)",
   "language": "python",
   "name": "python3"
  },
  "language_info": {
   "codemirror_mode": {
    "name": "ipython",
    "version": 3
   },
   "file_extension": ".py",
   "mimetype": "text/x-python",
   "name": "python",
   "nbconvert_exporter": "python",
   "pygments_lexer": "ipython3",
   "version": "3.11.3"
  }
 },
 "nbformat": 4,
 "nbformat_minor": 5
}
