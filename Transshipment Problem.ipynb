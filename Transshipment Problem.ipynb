{
 "cells": [
  {
   "cell_type": "code",
   "execution_count": null,
   "id": "eac6ca46",
   "metadata": {},
   "outputs": [],
   "source": []
  },
  {
   "cell_type": "code",
   "execution_count": null,
   "id": "765ef38a",
   "metadata": {},
   "outputs": [],
   "source": []
  },
  {
   "cell_type": "code",
   "execution_count": 1,
   "id": "26472b5f",
   "metadata": {},
   "outputs": [
    {
     "name": "stdout",
     "output_type": "stream",
     "text": [
      "Status: Optimal\n",
      "x1 = 600.0\n",
      "x10 = 150.0\n",
      "x12 = 250.0\n",
      "x4 = 400.0\n",
      "x5 = 200.0\n",
      "x7 = 350.0\n",
      "x8 = 50.0\n",
      "Total = 5200.0\n"
     ]
    },
    {
     "name": "stderr",
     "output_type": "stream",
     "text": [
      "C:\\Users\\anike\\anaconda3\\Lib\\site-packages\\pulp\\pulp.py:1352: UserWarning: Spaces are not permitted in the name. Converted to '_'\n",
      "  warnings.warn(\"Spaces are not permitted in the name. Converted to '_'\")\n"
     ]
    }
   ],
   "source": [
    "from pulp import *\n",
    "\n",
    "x1 = LpVariable('x1', lowBound=0, cat='Integer')\n",
    "x2 = LpVariable('x2', lowBound=0, cat='Integer')\n",
    "x3 = LpVariable('x3', lowBound=0, cat='Integer')\n",
    "x4 = LpVariable('x4', lowBound=0, cat='Integer')\n",
    "x5 = LpVariable('x5', lowBound=0, cat='Integer')\n",
    "x6 = LpVariable('x6', lowBound=0, cat='Integer')\n",
    "x7 = LpVariable('x7', lowBound=0, cat='Integer')\n",
    "x8 = LpVariable('x8', lowBound=0, cat='Integer')\n",
    "x9 = LpVariable('x9', lowBound=0, cat='Integer')\n",
    "x10 = LpVariable('x10', lowBound=0, cat='Integer')\n",
    "x11 = LpVariable('x11', lowBound=0, cat='Integer')\n",
    "x12 = LpVariable('x12', lowBound=0, cat='Integer')\n",
    "\n",
    "Problem = LpProblem('Transshipment Problem', LpMinimize)\n",
    "\n",
    "Problem += 2*x1+3*x2+3*x3+1*x4+2*x5+6*x6+3*x7+6*x8+4*x9+4*x10+6*x11+5*x12\n",
    "\n",
    "Problem += x1+x2<=600\n",
    "Problem += x3+x4<=400\n",
    "Problem += x5+x9==200\n",
    "Problem += x6+x10==150\n",
    "Problem += x7+x11==350\n",
    "Problem += x8+x12==300\n",
    "\n",
    "Problem += x1+x3 == x5+x6+x7+x8\n",
    "Problem += x2+x4 == x9+x10+x11+x12\n",
    "\n",
    "Problem.solve()\n",
    "\n",
    "print(\"Status:\", LpStatus[Problem.status])\n",
    "\n",
    "for s in Problem.variables():\n",
    "    if s.varValue > 0:\n",
    "        print(s.name, \"=\", s.varValue)\n",
    "    \n",
    "print(\"Total =\", value(Problem.objective))"
   ]
  },
  {
   "cell_type": "code",
   "execution_count": null,
   "id": "5ecafbb4",
   "metadata": {},
   "outputs": [],
   "source": []
  }
 ],
 "metadata": {
  "kernelspec": {
   "display_name": "Python 3 (ipykernel)",
   "language": "python",
   "name": "python3"
  },
  "language_info": {
   "codemirror_mode": {
    "name": "ipython",
    "version": 3
   },
   "file_extension": ".py",
   "mimetype": "text/x-python",
   "name": "python",
   "nbconvert_exporter": "python",
   "pygments_lexer": "ipython3",
   "version": "3.11.5"
  }
 },
 "nbformat": 4,
 "nbformat_minor": 5
}
