{
 "cells": [
  {
   "cell_type": "code",
   "execution_count": 1,
   "id": "df0c2cbf",
   "metadata": {},
   "outputs": [
    {
     "name": "stdout",
     "output_type": "stream",
     "text": [
      "Maximum value: 15\n"
     ]
    }
   ],
   "source": [
    "def knapsack(items, weight_limit):\n",
    "    num_items = len(items)\n",
    "    dp = [[0 for _ in range(weight_limit + 1)] for _ in range(num_items + 1)]\n",
    "\n",
    "    for i in range(1, num_items + 1):\n",
    "        for j in range(1, weight_limit + 1):\n",
    "            item_weight = items[i - 1][0]\n",
    "            item_value = items[i - 1][1]\n",
    "\n",
    "            if item_weight > j:\n",
    "                dp[i][j] = dp[i - 1][j]\n",
    "            else:\n",
    "                dp[i][j] = max(dp[i - 1][j], dp[i - 1][j - item_weight] + item_value)\n",
    "\n",
    "    return dp[num_items][weight_limit]\n",
    "\n",
    "if __name__ == \"__main__\":\n",
    "    items = [\n",
    "        (12, 4),\n",
    "        (1, 2),\n",
    "        (4, 10),\n",
    "        (1, 1),\n",
    "        (2, 2)\n",
    "    ]\n",
    "    weight_limit = 15\n",
    "\n",
    "    max_value = knapsack(items, weight_limit)\n",
    "    print(\"Maximum value:\", max_value)\n"
   ]
  },
  {
   "cell_type": "code",
   "execution_count": 10,
   "id": "510e14c0",
   "metadata": {},
   "outputs": [
    {
     "name": "stdout",
     "output_type": "stream",
     "text": [
      "Maximum value that can be obtained within the weight limit: 15\n"
     ]
    }
   ],
   "source": [
    "def knapsack_max_value(weights, values, capacity):\n",
    "    n = len(weights)\n",
    "    dp = [[0] * (capacity + 1) for _ in range(n + 1)]\n",
    "    \n",
    "    for i in range(1, n + 1):\n",
    "        for w in range(1, capacity + 1):\n",
    "            if weights[i - 1] <= w:\n",
    "                dp[i][w] = max(dp[i - 1][w], dp[i - 1][w - weights[i - 1]] + values[i - 1])\n",
    "            else:\n",
    "                dp[i][w] = dp[i - 1][w]\n",
    "    \n",
    "   \n",
    "    return dp[n][capacity]\n",
    "\n",
    "\n",
    "weights = [12, 1, 4, 1, 2]\n",
    "values = [4, 2, 10, 1, 2]\n",
    "\n",
    "capacity = 15\n",
    "\n",
    "max_value = knapsack_max_value(weights, values, capacity)\n",
    "print(\"Maximum value that can be obtained within the weight limit:\", max_value)"
   ]
  },
  {
   "cell_type": "code",
   "execution_count": null,
   "id": "b1e46ac3",
   "metadata": {},
   "outputs": [],
   "source": []
  }
 ],
 "metadata": {
  "kernelspec": {
   "display_name": "Python 3 (ipykernel)",
   "language": "python",
   "name": "python3"
  },
  "language_info": {
   "codemirror_mode": {
    "name": "ipython",
    "version": 3
   },
   "file_extension": ".py",
   "mimetype": "text/x-python",
   "name": "python",
   "nbconvert_exporter": "python",
   "pygments_lexer": "ipython3",
   "version": "3.11.3"
  }
 },
 "nbformat": 4,
 "nbformat_minor": 5
}
